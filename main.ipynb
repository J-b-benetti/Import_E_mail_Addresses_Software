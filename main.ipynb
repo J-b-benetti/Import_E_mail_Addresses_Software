{
 "cells": [
  {
   "cell_type": "markdown",
   "metadata": {},
   "source": [
    "Afficher les adresses mails depuis un format en .csv vers un format plus convivial"
   ]
  },
  {
   "cell_type": "code",
   "execution_count": null,
   "metadata": {},
   "outputs": [
    {
     "name": "stdout",
     "output_type": "stream",
     "text": [
      "Fichier introuvable. Veuillez vérifier le chemin et réessayer.\n",
      "Aucune adresse e-mail à afficher.\n"
     ]
    }
   ],
   "source": [
    "import csv\n",
    "import chardet # Lib to recognize encoded data\n",
    "\n",
    "def detect_encodage(file_path):\n",
    "    with open(file_path, 'rb') as fichier:\n",
    "        result = chardet.detect(fichier.read(10000))\n",
    "        #print(result)\n",
    "    return result['encoding']\n",
    "\n",
    "def read_csv_file(file_path):\n",
    "    try:\n",
    "        encodage = detect_encodage(file_path)\n",
    "        with open(file_path, mode='r', encoding=encodage) as fichier:\n",
    "            reader = csv.DictReader(fichier)\n",
    "            emails = []\n",
    "            for row in reader:\n",
    "                mail_email = row.get('Adresse e-mail principale', '').strip()\n",
    "                second_email = row.get('Adresse e-mail secondaire', '').strip()\n",
    "\n",
    "                if mail_email or second_email:\n",
    "                    emails.append({\n",
    "                        \"Nom complet\": f\"{row.get('Prénom', '').strip()} {row.get('Nom de famille', '').strip() or \"Inconnu\"}\",\n",
    "                        \"E-mail principal\": mail_email or \"Non spécifié\",\n",
    "                        \"E-mail secondaire\": second_email or \"Non spécifié\"\n",
    "                    })\n",
    "            return emails\n",
    "    except FileNotFoundError:\n",
    "        print(\"Fichier introuvable. Veuillez vérifier le chemin et réessayer.\")\n",
    "        return []\n",
    "    except Exception as e:\n",
    "        print(f\"Une erreur est survenue : {e}\")\n",
    "        return []\n",
    "\n",
    "def print_readable_email_addresses(emails):\n",
    "    if not emails:\n",
    "        print(\"Aucune adresse e-mail à afficher.\")\n",
    "        return\n",
    "    \n",
    "    print(\"Liste des adresses e-mail :\\n\")\n",
    "    for contact in emails:\n",
    "        print(f\"- {contact['Nom complet']}: {contact['E-mail principal']} (Secondaire: {contact['E-mail secondaire']})\")\n",
    "\n",
    "# Exemple d'utilisation\n",
    "if __name__ == \"__main__\":\n",
    "    chemin = \"adresses_collectees.csv\".strip()\n",
    "    emails = read_csv_file(chemin)\n",
    "    print_readable_email_addresses(emails)\n"
   ]
  }
 ],
 "metadata": {
  "kernelspec": {
   "display_name": "Python 3",
   "language": "python",
   "name": "python3"
  },
  "language_info": {
   "codemirror_mode": {
    "name": "ipython",
    "version": 3
   },
   "file_extension": ".py",
   "mimetype": "text/x-python",
   "name": "python",
   "nbconvert_exporter": "python",
   "pygments_lexer": "ipython3",
   "version": "3.12.6"
  }
 },
 "nbformat": 4,
 "nbformat_minor": 2
}
